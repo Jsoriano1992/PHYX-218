{
 "cells": [
  {
   "cell_type": "code",
   "execution_count": 6,
   "metadata": {},
   "outputs": [
    {
     "name": "stdout",
     "output_type": "stream",
     "text": [
      "1.7228309558266145e-05\n",
      "1.7228e-05 +/- 1.596267600352921e-07\n"
     ]
    }
   ],
   "source": [
    "import numpy as np \n",
    "def rule3(dA,dB): \n",
    "    dQ = np.sqrt(dA**2+dB**2) \n",
    "    return dQ \n",
    "def rule4(Q,m,dA,A,n,dB,B,o,dC,C): \n",
    "    dQ = Q*np.sqrt((m*(dA/A))**2+(n*dB/B)**2+(o*dC/C)**2)\n",
    "    return dQ \n",
    "Alpha = 0.00125/(1.05*69.1) \n",
    "\n",
    "print (Alpha) \n",
    "\n",
    "alpha = 1.7228e-05 \n",
    "L = 1.05 \n",
    "dL = 0.001 \n",
    "DL = 0.00125 \n",
    "dDL = 0.00001 \n",
    "initialT = 23.4 \n",
    "finalT = 92.5 \n",
    "dinitialT = 0.3 \n",
    "dfinalT = 0.1 \n",
    "dT = rule3(dinitialT,dfinalT) \n",
    "dAlpha = rule4(alpha,1,dL,L,1,dT,69.1,1,dDL,DL) \n",
    "AlphaFinal = alpha+dAlpha \n",
    "AlphaFinal1 = alpha-dAlpha \n",
    "\n",
    "## Prints Alpha +/- dAlpha\n",
    "\n",
    "print (alpha,\"+/-\",dAlpha)"
   ]
  },
  {
   "cell_type": "markdown",
   "metadata": {},
   "source": [
    "$\\Delta$L = $\\alpha$L$\\Delta$T\n"
   ]
  },
  {
   "cell_type": "markdown",
   "metadata": {},
   "source": [
    "$\\alpha$ Final = $\\alpha$$\\pm$$\\delta$$\\alpha$\n"
   ]
  },
  {
   "cell_type": "code",
   "execution_count": null,
   "metadata": {},
   "outputs": [],
   "source": []
  }
 ],
 "metadata": {
  "kernelspec": {
   "display_name": "Python 3",
   "language": "python",
   "name": "python3"
  },
  "language_info": {
   "codemirror_mode": {
    "name": "ipython",
    "version": 3
   },
   "file_extension": ".py",
   "mimetype": "text/x-python",
   "name": "python",
   "nbconvert_exporter": "python",
   "pygments_lexer": "ipython3",
   "version": "3.6.5"
  }
 },
 "nbformat": 4,
 "nbformat_minor": 2
}
